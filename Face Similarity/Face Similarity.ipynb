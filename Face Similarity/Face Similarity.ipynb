{
 "cells": [
  {
   "cell_type": "code",
   "execution_count": 1,
   "metadata": {},
   "outputs": [],
   "source": [
    "import face_recognition"
   ]
  },
  {
   "cell_type": "code",
   "execution_count": 8,
   "metadata": {},
   "outputs": [],
   "source": [
    "import numpy as np"
   ]
  },
  {
   "cell_type": "code",
   "execution_count": 2,
   "metadata": {},
   "outputs": [],
   "source": [
    "# Load the known images\n",
    "known_images = [\"./../Rifkhan.jpg\", \"./../WhatsApp Image 2024-10-08 at 3.08.55 PM.jpeg\",'./../WhatsApp Image 2024-10-08 at 3.08.38 PM.jpeg']\n",
    "\n",
    "known_encodings = [face_recognition.face_encodings(face_recognition.load_image_file(img))[0] for img in known_images]\n"
   ]
  },
  {
   "cell_type": "code",
   "execution_count": 5,
   "metadata": {},
   "outputs": [],
   "source": [
    "\n",
    "# Load the unknown image\n",
    "unknown_image = face_recognition.load_image_file(\"./../WhatsApp Image 2024-10-08 at 3.18.15 PM.jpeg\")\n",
    "unknown_encoding = face_recognition.face_encodings(unknown_image)[0]"
   ]
  },
  {
   "cell_type": "code",
   "execution_count": 9,
   "metadata": {},
   "outputs": [],
   "source": [
    "\n",
    "# Find the most similar face\n",
    "distances = face_recognition.face_distance(known_encodings, unknown_encoding)\n",
    "best_match_index = np.argmin(distances)"
   ]
  },
  {
   "cell_type": "code",
   "execution_count": 10,
   "metadata": {},
   "outputs": [
    {
     "name": "stdout",
     "output_type": "stream",
     "text": [
      "Most similar face is: ./../Rifkhan.jpg\n"
     ]
    }
   ],
   "source": [
    "\n",
    "\n",
    "\n",
    "\n",
    "\n",
    "print(\"Most similar face is:\", known_images[best_match_index])\n"
   ]
  }
 ],
 "metadata": {
  "kernelspec": {
   "display_name": "Python 3",
   "language": "python",
   "name": "python3"
  },
  "language_info": {
   "codemirror_mode": {
    "name": "ipython",
    "version": 3
   },
   "file_extension": ".py",
   "mimetype": "text/x-python",
   "name": "python",
   "nbconvert_exporter": "python",
   "pygments_lexer": "ipython3",
   "version": "3.12.5"
  }
 },
 "nbformat": 4,
 "nbformat_minor": 2
}
