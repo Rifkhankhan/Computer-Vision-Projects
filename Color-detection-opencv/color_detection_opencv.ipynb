{
 "cells": [
  {
   "cell_type": "code",
   "execution_count": 2,
   "metadata": {},
   "outputs": [],
   "source": [
    "import cv2\n",
    "from PIL import Image\n"
   ]
  },
  {
   "cell_type": "code",
   "execution_count": 3,
   "metadata": {},
   "outputs": [],
   "source": [
    "import numpy as np\n",
    "import cv2"
   ]
  },
  {
   "cell_type": "code",
   "execution_count": 4,
   "metadata": {},
   "outputs": [],
   "source": [
    "\n",
    "def get_limits(color):\n",
    "    c = np.uint8([[color]])  # BGR values\n",
    "    hsvC = cv2.cvtColor(c, cv2.COLOR_BGR2HSV)\n",
    "\n",
    "    hue = hsvC[0][0][0]  # Get the hue value\n",
    "\n",
    "    # Handle red hue wrap-around\n",
    "    if hue >= 165:  # Upper limit for divided red hue\n",
    "        lowerLimit = np.array([hue - 10, 100, 100], dtype=np.uint8)\n",
    "        upperLimit = np.array([180, 255, 255], dtype=np.uint8)\n",
    "    elif hue <= 15:  # Lower limit for divided red hue\n",
    "        lowerLimit = np.array([0, 100, 100], dtype=np.uint8)\n",
    "        upperLimit = np.array([hue + 10, 255, 255], dtype=np.uint8)\n",
    "    else:\n",
    "        lowerLimit = np.array([hue - 10, 100, 100], dtype=np.uint8)\n",
    "        upperLimit = np.array([hue + 10, 255, 255], dtype=np.uint8)\n",
    "\n",
    "    return lowerLimit, upperLimit"
   ]
  },
  {
   "cell_type": "code",
   "execution_count": 13,
   "metadata": {},
   "outputs": [],
   "source": [
    "yellow = [0, 255, 255]  # yellow in BGR colorspace\n",
    "cap = cv2.VideoCapture(0)"
   ]
  },
  {
   "cell_type": "code",
   "execution_count": 11,
   "metadata": {},
   "outputs": [],
   "source": []
  },
  {
   "cell_type": "code",
   "execution_count": 15,
   "metadata": {},
   "outputs": [],
   "source": [
    "blue_bgr = [255, 0, 0] \n",
    "cap = cv2.VideoCapture(0)\n"
   ]
  },
  {
   "cell_type": "code",
   "execution_count": 17,
   "metadata": {},
   "outputs": [],
   "source": [
    "red_bgr = [0, 0, 255]  # BGR for red\n",
    "cap = cv2.VideoCapture(0)\n"
   ]
  },
  {
   "cell_type": "code",
   "execution_count": 19,
   "metadata": {},
   "outputs": [],
   "source": [
    "red_bgr = [0, 0, 0]  # BGR for red\n",
    "cap = cv2.VideoCapture(0)"
   ]
  },
  {
   "cell_type": "code",
   "execution_count": 22,
   "metadata": {},
   "outputs": [
    {
     "ename": "error",
     "evalue": "OpenCV(4.10.0) D:\\a\\opencv-python\\opencv-python\\opencv\\modules\\imgproc\\src\\color.cpp:196: error: (-215:Assertion failed) !_src.empty() in function 'cv::cvtColor'\n",
     "output_type": "error",
     "traceback": [
      "\u001b[1;31m---------------------------------------------------------------------------\u001b[0m",
      "\u001b[1;31merror\u001b[0m                                     Traceback (most recent call last)",
      "Cell \u001b[1;32mIn[22], line 4\u001b[0m\n\u001b[0;32m      1\u001b[0m \u001b[38;5;28;01mwhile\u001b[39;00m \u001b[38;5;28;01mTrue\u001b[39;00m:\n\u001b[0;32m      2\u001b[0m     ret, frame \u001b[38;5;241m=\u001b[39m cap\u001b[38;5;241m.\u001b[39mread()\n\u001b[1;32m----> 4\u001b[0m     hsvImage \u001b[38;5;241m=\u001b[39m \u001b[43mcv2\u001b[49m\u001b[38;5;241;43m.\u001b[39;49m\u001b[43mcvtColor\u001b[49m\u001b[43m(\u001b[49m\u001b[43mframe\u001b[49m\u001b[43m,\u001b[49m\u001b[43m \u001b[49m\u001b[43mcv2\u001b[49m\u001b[38;5;241;43m.\u001b[39;49m\u001b[43mCOLOR_BGR2HSV\u001b[49m\u001b[43m)\u001b[49m\n\u001b[0;32m      6\u001b[0m     lowerLimit, upperLimit \u001b[38;5;241m=\u001b[39m get_limits(color\u001b[38;5;241m=\u001b[39mred_bgr)\n\u001b[0;32m      8\u001b[0m     mask \u001b[38;5;241m=\u001b[39m cv2\u001b[38;5;241m.\u001b[39minRange(hsvImage, lowerLimit, upperLimit)\n",
      "\u001b[1;31merror\u001b[0m: OpenCV(4.10.0) D:\\a\\opencv-python\\opencv-python\\opencv\\modules\\imgproc\\src\\color.cpp:196: error: (-215:Assertion failed) !_src.empty() in function 'cv::cvtColor'\n"
     ]
    }
   ],
   "source": [
    "while True:\n",
    "    ret, frame = cap.read()\n",
    "\n",
    "    hsvImage = cv2.cvtColor(frame, cv2.COLOR_BGR2HSV)\n",
    "\n",
    "    lowerLimit, upperLimit = get_limits(color=red_bgr)\n",
    "\n",
    "    mask = cv2.inRange(hsvImage, lowerLimit, upperLimit)\n",
    "\n",
    "    mask_ = Image.fromarray(mask)\n",
    "\n",
    "    bbox = mask_.getbbox()\n",
    "\n",
    "    if bbox is not None:\n",
    "        x1, y1, x2, y2 = bbox\n",
    "\n",
    "        frame = cv2.rectangle(frame, (x1, y1), (x2, y2), (0, 255, 0), 5)\n",
    "\n",
    "    cv2.imshow('frame', frame)\n",
    "\n",
    "    if cv2.waitKey(1) & 0xFF == ord('q'):\n",
    "        break\n",
    "\n",
    "cap.release()\n",
    "\n",
    "cv2.destroyAllWindows()"
   ]
  },
  {
   "cell_type": "code",
   "execution_count": 35,
   "metadata": {},
   "outputs": [],
   "source": [
    "import numpy as np\n",
    "import cv2\n",
    "\n",
    "def get_red_limits():\n",
    "    # Define the lower and upper limits for red in HSV\n",
    "    lower_red1 = np.array([0, 100, 100], dtype=np.uint8)    # Lower red (hue from 0 to 10)\n",
    "    upper_red1 = np.array([10, 255, 255], dtype=np.uint8)\n",
    "\n",
    "    lower_red2 = np.array([170, 100, 100], dtype=np.uint8)  # Upper red (hue from 170 to 180)\n",
    "    upper_red2 = np.array([180, 255, 255], dtype=np.uint8)\n",
    "\n",
    "    return (lower_red1, upper_red1), (lower_red2, upper_red2)\n",
    "\n",
    "def detect_red(frame):\n",
    "    # Convert the frame to HSV\n",
    "    hsv_frame = cv2.cvtColor(frame, cv2.COLOR_BGR2HSV)\n",
    "\n",
    "    # Get the red color ranges\n",
    "    (lower_red1, upper_red1), (lower_red2, upper_red2) = get_red_limits()\n",
    "\n",
    "    # Create two masks to cover the red hue range\n",
    "    mask1 = cv2.inRange(hsv_frame, lower_red1, upper_red1)\n",
    "    mask2 = cv2.inRange(hsv_frame, lower_red2, upper_red2)\n",
    "\n",
    "    # Combine the two masks\n",
    "    red_mask = cv2.bitwise_or(mask1, mask2)\n",
    "\n",
    "    # Find contours in the mask\n",
    "    contours, _ = cv2.findContours(red_mask, cv2.RETR_EXTERNAL, cv2.CHAIN_APPROX_SIMPLE)\n",
    "\n",
    "    return contours, red_mask\n",
    "\n",
    "def draw_rectangles(frame, contours):\n",
    "    # Draw rectangles around detected contours\n",
    "    for contour in contours:\n",
    "        if cv2.contourArea(contour) > 500:  # Filter small areas (adjust threshold as needed)\n",
    "            x, y, w, h = cv2.boundingRect(contour)\n",
    "            cv2.rectangle(frame, (x, y), (x + w, y + h), (0, 255, 0), 2)  # Draw a green rectangle\n",
    "\n",
    "# Open video capture (0 for webcam or provide video file path)\n",
    "video_capture = cv2.VideoCapture(0)  # Use 'cv2.VideoCapture('path_to_video.mp4')' for video file\n",
    "\n",
    "# Get frame width and height\n",
    "frame_width = int(video_capture.get(3))\n",
    "frame_height = int(video_capture.get(4))\n",
    "\n",
    "# Define the codec and create VideoWriter objects for each video\n",
    "fourcc = cv2.VideoWriter_fourcc(*'XVID')  # Codec for saving videos in .avi format\n",
    "\n",
    "# Create VideoWriter objects for original, red-detected, and red-mask videos\n",
    "original_writer = cv2.VideoWriter('original_output.mp4', fourcc, 20.0, (frame_width, frame_height))\n",
    "red_detected_writer = cv2.VideoWriter('red_detected_output.mp4', fourcc, 20.0, (frame_width, frame_height))\n",
    "red_mask_writer = cv2.VideoWriter('red_mask_output.mp4', fourcc, 20.0, (frame_width, frame_height), isColor=False)\n",
    "\n",
    "while True:\n",
    "    # Capture each frame from the video stream\n",
    "    ret, frame = video_capture.read()\n",
    "\n",
    "    if not ret:\n",
    "        print(\"Failed to grab frame\")\n",
    "        break\n",
    "\n",
    "    # Detect red color in the current frame\n",
    "    contours, red_mask = detect_red(frame)\n",
    "\n",
    "    # Draw rectangles around detected red areas\n",
    "    draw_rectangles(frame, contours)\n",
    "\n",
    "    # Write the frames to the respective video files\n",
    "    original_writer.write(frame)            # Original video with rectangles\n",
    "    red_detected_writer.write(frame)  # Red-detected video (now with rectangles)\n",
    "    red_mask_writer.write(red_mask)          # Red mask video\n",
    "\n",
    "    # Display the results\n",
    "    cv2.imshow(\"Original Video\", frame)\n",
    "    cv2.imshow(\"Red Mask\", red_mask)\n",
    "\n",
    "    # Break the loop on 'q' key press\n",
    "    if cv2.waitKey(1) & 0xFF == ord('q'):\n",
    "        break\n",
    "\n",
    "# Release the video capture and writer objects and close windows\n",
    "video_capture.release()\n",
    "original_writer.release()\n",
    "red_detected_writer.release()\n",
    "red_mask_writer.release()\n",
    "\n",
    "cv2.destroyAllWindows()\n"
   ]
  }
 ],
 "metadata": {
  "kernelspec": {
   "display_name": "Python 3",
   "language": "python",
   "name": "python3"
  },
  "language_info": {
   "codemirror_mode": {
    "name": "ipython",
    "version": 3
   },
   "file_extension": ".py",
   "mimetype": "text/x-python",
   "name": "python",
   "nbconvert_exporter": "python",
   "pygments_lexer": "ipython3",
   "version": "3.12.5"
  }
 },
 "nbformat": 4,
 "nbformat_minor": 2
}
