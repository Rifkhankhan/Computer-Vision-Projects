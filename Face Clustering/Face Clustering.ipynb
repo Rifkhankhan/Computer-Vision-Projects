{
 "cells": [
  {
   "cell_type": "code",
   "execution_count": 2,
   "metadata": {},
   "outputs": [],
   "source": [
    "import face_recognition\n",
    "from sklearn.cluster import DBSCAN\n",
    "import numpy as np\n"
   ]
  },
  {
   "cell_type": "code",
   "execution_count": 10,
   "metadata": {},
   "outputs": [],
   "source": [
    "# Load images and encode faces\n",
    "image_files = [\"./../Rifkhan.jpg\", \"./../WhatsApp Image 2024-10-08 at 3.08.55 PM.jpeg\",'./../WhatsApp Image 2024-10-08 at 3.08.38 PM.jpeg','./../WhatsApp Image 2024-10-08 at 3.18.15 PM.jpeg','./../d.jpeg','./../m.jpeg']\n",
    "\n",
    "encodings = [face_recognition.face_encodings(face_recognition.load_image_file(img))[0] for img in image_files]"
   ]
  },
  {
   "cell_type": "code",
   "execution_count": 11,
   "metadata": {},
   "outputs": [],
   "source": [
    "# Cluster faces\n",
    "clustering = DBSCAN(eps=0.5, min_samples=2, metric=\"euclidean\").fit(encodings)\n",
    "labels = clustering.labels_"
   ]
  },
  {
   "cell_type": "code",
   "execution_count": 12,
   "metadata": {},
   "outputs": [
    {
     "name": "stdout",
     "output_type": "stream",
     "text": [
      "Cluster labels for each face: [ 0  0  0  0 -1 -1]\n"
     ]
    }
   ],
   "source": [
    "print(\"Cluster labels for each face:\", labels)"
   ]
  }
 ],
 "metadata": {
  "kernelspec": {
   "display_name": "Python 3",
   "language": "python",
   "name": "python3"
  },
  "language_info": {
   "codemirror_mode": {
    "name": "ipython",
    "version": 3
   },
   "file_extension": ".py",
   "mimetype": "text/x-python",
   "name": "python",
   "nbconvert_exporter": "python",
   "pygments_lexer": "ipython3",
   "version": "3.12.5"
  }
 },
 "nbformat": 4,
 "nbformat_minor": 2
}
