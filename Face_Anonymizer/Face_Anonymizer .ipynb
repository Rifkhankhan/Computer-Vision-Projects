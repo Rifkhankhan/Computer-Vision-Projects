{
 "cells": [
  {
   "cell_type": "code",
   "execution_count": 57,
   "metadata": {},
   "outputs": [],
   "source": [
    "import cv2\n"
   ]
  },
  {
   "cell_type": "code",
   "execution_count": 58,
   "metadata": {},
   "outputs": [],
   "source": [
    "# Load the pre-trained face detection model (Haar Cascade)\n",
    "face_cascade = cv2.CascadeClassifier(cv2.data.haarcascades + 'haarcascade_frontalface_default.xml')\n"
   ]
  },
  {
   "cell_type": "code",
   "execution_count": 59,
   "metadata": {},
   "outputs": [],
   "source": [
    "# Open video capture (0 for webcam or provide video file path)\n",
    "cap = cv2.VideoCapture(0)  # Replace 0 with 'path_to_video.mp4' for a video file\n"
   ]
  },
  {
   "cell_type": "code",
   "execution_count": 60,
   "metadata": {},
   "outputs": [],
   "source": [
    "# Get frame width and height\n",
    "frame_width = int(cap.get(cv2.CAP_PROP_FRAME_WIDTH))\n",
    "frame_height = int(cap.get(cv2.CAP_PROP_FRAME_HEIGHT))"
   ]
  },
  {
   "cell_type": "code",
   "execution_count": 61,
   "metadata": {},
   "outputs": [],
   "source": [
    "# Define the codec and create VideoWriter object for anonymized video\n",
    "fourcc = cv2.VideoWriter_fourcc(*'XVID')  # Codec for saving videos in .avi format\n",
    "anonymized_writer = cv2.VideoWriter('face_anonymizer_output.mp4', fourcc, 20.0, (frame_width, frame_height))\n",
    "original_writer = cv2.VideoWriter('original_video_output.mp4', fourcc, 20.0, (frame_width, frame_height))\n"
   ]
  },
  {
   "cell_type": "code",
   "execution_count": 62,
   "metadata": {},
   "outputs": [],
   "source": [
    "\n",
    "while True:\n",
    "    ret, frame = cap.read()\n",
    "    if not ret:\n",
    "        print(\"Failed to grab frame\")\n",
    "        break\n",
    "\n",
    "    gray = cv2.cvtColor(frame, cv2.COLOR_BGR2GRAY)\n",
    "    \n",
    "    # Detect faces\n",
    "    faces = face_cascade.detectMultiScale(gray, scaleFactor=1.1, minNeighbors=5, minSize=(30, 30))\n",
    "    \n",
    "    # Anonymize faces by applying Gaussian blur\n",
    "    for (x, y, w, h) in faces:\n",
    "        # Extract the region of interest (the face)\n",
    "        face_region = frame[y:y+h, x:x+w]\n",
    "        \n",
    "     \n",
    "        \n",
    "    \n",
    "        # Apply Gaussian blur to the face region\n",
    "        blurred_face = cv2.GaussianBlur(face_region, (99, 99), 30)\n",
    "        # Replace the face region in the original frame with the blurred version\n",
    "        frame[y:y+h, x:x+w] = blurred_face\n",
    "\n",
    "\n",
    "    anonymized_writer.write(frame)  # Save the frame to the output video\n",
    "\n",
    "    # Display the output\n",
    "    \n",
    "    cv2.imshow('Face Anonymizer', frame)\n",
    "\n",
    "    # Break the loop on 'q' key press\n",
    "    if cv2.waitKey(1) & 0xFF == ord('q'):\n",
    "        break\n",
    "\n",
    "# Release the video capture and writer objects, and close all OpenCV windows\n",
    "cap.release()\n",
    "anonymized_writer.release()\n",
    "cv2.destroyAllWindows()"
   ]
  },
  {
   "cell_type": "code",
   "execution_count": null,
   "metadata": {},
   "outputs": [],
   "source": []
  },
  {
   "cell_type": "code",
   "execution_count": null,
   "metadata": {},
   "outputs": [],
   "source": []
  }
 ],
 "metadata": {
  "kernelspec": {
   "display_name": "Python 3",
   "language": "python",
   "name": "python3"
  },
  "language_info": {
   "codemirror_mode": {
    "name": "ipython",
    "version": 3
   },
   "file_extension": ".py",
   "mimetype": "text/x-python",
   "name": "python",
   "nbconvert_exporter": "python",
   "pygments_lexer": "ipython3",
   "version": "3.12.5"
  }
 },
 "nbformat": 4,
 "nbformat_minor": 2
}
