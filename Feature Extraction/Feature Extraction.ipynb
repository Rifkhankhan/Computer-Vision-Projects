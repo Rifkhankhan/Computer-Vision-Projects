{
 "cells": [
  {
   "cell_type": "code",
   "execution_count": 1,
   "metadata": {},
   "outputs": [],
   "source": [
    "import dlib\n",
    "import cv2\n",
    "import numpy as np"
   ]
  },
  {
   "cell_type": "code",
   "execution_count": 3,
   "metadata": {},
   "outputs": [],
   "source": [
    "# Load the pre-trained face detector and shape predictor\n",
    "detector = dlib.get_frontal_face_detector()\n",
    "predictor = dlib.shape_predictor('shape_predictor_68_face_landmarks.dat')"
   ]
  },
  {
   "cell_type": "code",
   "execution_count": 4,
   "metadata": {},
   "outputs": [],
   "source": [
    "# Read the input image\n",
    "image = cv2.imread('./../WhatsApp Image 2024-10-08 at 3.08.38 PM.jpeg')\n",
    "gray = cv2.cvtColor(image, cv2.COLOR_BGR2GRAY)"
   ]
  },
  {
   "cell_type": "code",
   "execution_count": 5,
   "metadata": {},
   "outputs": [],
   "source": [
    "# Detect faces\n",
    "faces = detector(gray)"
   ]
  },
  {
   "cell_type": "code",
   "execution_count": 6,
   "metadata": {},
   "outputs": [],
   "source": [
    "for face in faces:\n",
    "    landmarks = predictor(gray, face)\n",
    "    features = np.array([[p.x, p.y] for p in landmarks.parts()])"
   ]
  },
  {
   "cell_type": "code",
   "execution_count": 7,
   "metadata": {},
   "outputs": [
    {
     "name": "stdout",
     "output_type": "stream",
     "text": [
      "[[310 351]\n",
      " [313 371]\n",
      " [316 391]\n",
      " [321 410]\n",
      " [328 427]\n",
      " [340 441]\n",
      " [355 452]\n",
      " [372 461]\n",
      " [391 462]\n",
      " [410 458]\n",
      " [426 447]\n",
      " [439 434]\n",
      " [450 418]\n",
      " [454 400]\n",
      " [456 380]\n",
      " [459 360]\n",
      " [461 340]\n",
      " [321 342]\n",
      " [329 330]\n",
      " [342 325]\n",
      " [356 326]\n",
      " [371 330]\n",
      " [396 326]\n",
      " [411 321]\n",
      " [425 319]\n",
      " [439 322]\n",
      " [447 333]\n",
      " [384 343]\n",
      " [384 354]\n",
      " [384 365]\n",
      " [384 376]\n",
      " [369 387]\n",
      " [377 388]\n",
      " [385 390]\n",
      " [393 388]\n",
      " [401 386]\n",
      " [338 350]\n",
      " [346 344]\n",
      " [356 343]\n",
      " [365 349]\n",
      " [357 351]\n",
      " [346 352]\n",
      " [404 345]\n",
      " [413 338]\n",
      " [423 338]\n",
      " [431 343]\n",
      " [424 346]\n",
      " [414 346]\n",
      " [358 416]\n",
      " [367 408]\n",
      " [377 404]\n",
      " [386 405]\n",
      " [393 403]\n",
      " [405 406]\n",
      " [416 411]\n",
      " [406 419]\n",
      " [396 425]\n",
      " [387 427]\n",
      " [378 427]\n",
      " [368 423]\n",
      " [363 415]\n",
      " [378 412]\n",
      " [386 412]\n",
      " [394 411]\n",
      " [411 411]\n",
      " [395 412]\n",
      " [386 414]\n",
      " [378 414]]\n"
     ]
    }
   ],
   "source": [
    "# features now contains the coordinates of the 68 facial landmarks\n",
    "print(features)"
   ]
  }
 ],
 "metadata": {
  "kernelspec": {
   "display_name": "Python 3",
   "language": "python",
   "name": "python3"
  },
  "language_info": {
   "codemirror_mode": {
    "name": "ipython",
    "version": 3
   },
   "file_extension": ".py",
   "mimetype": "text/x-python",
   "name": "python",
   "nbconvert_exporter": "python",
   "pygments_lexer": "ipython3",
   "version": "3.12.5"
  }
 },
 "nbformat": 4,
 "nbformat_minor": 2
}
