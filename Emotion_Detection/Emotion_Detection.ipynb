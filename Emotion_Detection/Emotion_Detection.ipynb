{
 "cells": [
  {
   "cell_type": "code",
   "execution_count": 14,
   "metadata": {},
   "outputs": [],
   "source": [
    "import cv2\n",
    "from fer import FER"
   ]
  },
  {
   "cell_type": "code",
   "execution_count": 15,
   "metadata": {},
   "outputs": [],
   "source": [
    "# Initialize the emotion detector\n",
    "emotion_detector = FER()\n"
   ]
  },
  {
   "cell_type": "code",
   "execution_count": 16,
   "metadata": {},
   "outputs": [],
   "source": [
    "# Open video capture (0 for webcam or provide video file path)\n",
    "cap = cv2.VideoCapture(0)  # Replace 0 with 'path_to_video.mp4' for a video file\n"
   ]
  },
  {
   "cell_type": "code",
   "execution_count": 17,
   "metadata": {},
   "outputs": [],
   "source": [
    "# Get frame width and height\n",
    "frame_width = int(cap.get(cv2.CAP_PROP_FRAME_WIDTH))\n",
    "frame_height = int(cap.get(cv2.CAP_PROP_FRAME_HEIGHT))"
   ]
  },
  {
   "cell_type": "code",
   "execution_count": 18,
   "metadata": {},
   "outputs": [],
   "source": [
    "# Define the codec and create VideoWriter object for saving the output video\n",
    "fourcc = cv2.VideoWriter_fourcc(*'XVID')\n",
    "output_writer = cv2.VideoWriter('emotion_detection_output.mp4', fourcc, 20.0, (frame_width, frame_height))\n"
   ]
  },
  {
   "cell_type": "code",
   "execution_count": 19,
   "metadata": {},
   "outputs": [],
   "source": [
    "\n",
    "while True:\n",
    "    ret, frame = cap.read()\n",
    "    if not ret:\n",
    "        print(\"Failed to grab frame\")\n",
    "        break\n",
    "\n",
    "    # Detect emotions in the current frame\n",
    "    emotions = emotion_detector.detect_emotions(frame)\n",
    "\n",
    "    # Draw rectangles around detected faces and label with the predominant emotion\n",
    "    for emotion in emotions:\n",
    "        x, y, w, h = emotion['box']  # Get bounding box for the face\n",
    "        cv2.rectangle(frame, (x, y), (x + w, y + h), (0, 255, 0), 2)\n",
    "\n",
    "        # Get the emotion with the highest score\n",
    "        dominant_emotion = max(emotion['emotions'], key=emotion['emotions'].get)\n",
    "        emotion_score = emotion['emotions'][dominant_emotion]\n",
    "\n",
    "        # Put the emotion label on the frame\n",
    "        label = f\"{dominant_emotion}: {emotion_score:.2f}\"\n",
    "        cv2.putText(frame, label, (x, y - 10), cv2.FONT_HERSHEY_SIMPLEX, 0.5, (0, 255, 0), 2)\n",
    "\n",
    "    # Write the frame to the output video file\n",
    "    output_writer.write(frame)\n",
    "\n",
    "    # Display the output\n",
    "    cv2.imshow('Emotion Detection', frame)\n",
    "\n",
    "    # Break the loop on 'q' key press\n",
    "    if cv2.waitKey(1) & 0xFF == ord('q'):\n",
    "        break\n",
    "\n",
    "# Release the video capture and writer objects, and close all OpenCV windows\n",
    "cap.release()\n",
    "output_writer.release()\n",
    "cv2.destroyAllWindows()"
   ]
  }
 ],
 "metadata": {
  "kernelspec": {
   "display_name": "Python 3",
   "language": "python",
   "name": "python3"
  },
  "language_info": {
   "codemirror_mode": {
    "name": "ipython",
    "version": 3
   },
   "file_extension": ".py",
   "mimetype": "text/x-python",
   "name": "python",
   "nbconvert_exporter": "python",
   "pygments_lexer": "ipython3",
   "version": "3.12.5"
  }
 },
 "nbformat": 4,
 "nbformat_minor": 2
}
